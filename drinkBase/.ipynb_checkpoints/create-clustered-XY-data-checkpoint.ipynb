{
 "cells": [
  {
   "cell_type": "code",
   "execution_count": 10,
   "metadata": {},
   "outputs": [],
   "source": [
    "from sklearn.feature_extraction.text import CountVectorizer\n",
    "from sklearn.decomposition import PCA\n",
    "from sklearn.manifold import TSNE\n",
    "from scipy.spatial.distance import cosine, pdist, squareform\n",
    "from sklearn.manifold import MDS\n",
    "\n",
    "import pandas as pd\n",
    "import numpy as np"
   ]
  },
  {
   "cell_type": "code",
   "execution_count": 11,
   "metadata": {},
   "outputs": [
    {
     "data": {
      "text/html": [
       "<div>\n",
       "<style scoped>\n",
       "    .dataframe tbody tr th:only-of-type {\n",
       "        vertical-align: middle;\n",
       "    }\n",
       "\n",
       "    .dataframe tbody tr th {\n",
       "        vertical-align: top;\n",
       "    }\n",
       "\n",
       "    .dataframe thead th {\n",
       "        text-align: right;\n",
       "    }\n",
       "</style>\n",
       "<table border=\"1\" class=\"dataframe\">\n",
       "  <thead>\n",
       "    <tr style=\"text-align: right;\">\n",
       "      <th></th>\n",
       "      <th>name</th>\n",
       "      <th>alcohol</th>\n",
       "      <th>sugar</th>\n",
       "      <th>acid</th>\n",
       "      <th>oz</th>\n",
       "      <th>style</th>\n",
       "      <th>glass</th>\n",
       "      <th>melt</th>\n",
       "      <th>ingredients</th>\n",
       "    </tr>\n",
       "  </thead>\n",
       "  <tbody>\n",
       "    <tr>\n",
       "      <th>0</th>\n",
       "      <td>Angostura Fizz</td>\n",
       "      <td>0.012531</td>\n",
       "      <td>0.075125</td>\n",
       "      <td>0.015161</td>\n",
       "      <td>3.9900</td>\n",
       "      <td>fizz</td>\n",
       "      <td>coupe</td>\n",
       "      <td>0.33</td>\n",
       "      <td>Angostura bitters|lime juice|simple syrup|gren...</td>\n",
       "    </tr>\n",
       "    <tr>\n",
       "      <th>1</th>\n",
       "      <td>Blonde Redhead</td>\n",
       "      <td>0.035560</td>\n",
       "      <td>0.089224</td>\n",
       "      <td>0.004203</td>\n",
       "      <td>9.2800</td>\n",
       "      <td>NaN</td>\n",
       "      <td>NaN</td>\n",
       "      <td>0.28</td>\n",
       "      <td>aperol|grapefruit juice|lemon juice|club soda</td>\n",
       "    </tr>\n",
       "    <tr>\n",
       "      <th>2</th>\n",
       "      <td>Trident</td>\n",
       "      <td>0.091026</td>\n",
       "      <td>0.033333</td>\n",
       "      <td>0.000000</td>\n",
       "      <td>3.9000</td>\n",
       "      <td>stirred</td>\n",
       "      <td>coupe</td>\n",
       "      <td>0.30</td>\n",
       "      <td>dry sherry|Cynar|aquavit|Fee Brothers peach bi...</td>\n",
       "    </tr>\n",
       "    <tr>\n",
       "      <th>3</th>\n",
       "      <td>Mojito</td>\n",
       "      <td>0.098765</td>\n",
       "      <td>0.077901</td>\n",
       "      <td>0.007407</td>\n",
       "      <td>6.0750</td>\n",
       "      <td>shaken</td>\n",
       "      <td>highball</td>\n",
       "      <td>0.35</td>\n",
       "      <td>white rum|mint leaves|simple syrup|lime juice|...</td>\n",
       "    </tr>\n",
       "    <tr>\n",
       "      <th>4</th>\n",
       "      <td>Cricket Ball</td>\n",
       "      <td>0.099174</td>\n",
       "      <td>0.027548</td>\n",
       "      <td>0.000000</td>\n",
       "      <td>4.5375</td>\n",
       "      <td>bubbly</td>\n",
       "      <td>flute</td>\n",
       "      <td>0.10</td>\n",
       "      <td>sugar|Peychaud's bitters|Fee Brothers rhubarb ...</td>\n",
       "    </tr>\n",
       "  </tbody>\n",
       "</table>\n",
       "</div>"
      ],
      "text/plain": [
       "             name   alcohol     sugar      acid      oz    style     glass  \\\n",
       "0  Angostura Fizz  0.012531  0.075125  0.015161  3.9900     fizz     coupe   \n",
       "1  Blonde Redhead  0.035560  0.089224  0.004203  9.2800      NaN       NaN   \n",
       "2         Trident  0.091026  0.033333  0.000000  3.9000  stirred     coupe   \n",
       "3          Mojito  0.098765  0.077901  0.007407  6.0750   shaken  highball   \n",
       "4    Cricket Ball  0.099174  0.027548  0.000000  4.5375   bubbly     flute   \n",
       "\n",
       "   melt                                        ingredients  \n",
       "0  0.33  Angostura bitters|lime juice|simple syrup|gren...  \n",
       "1  0.28      aperol|grapefruit juice|lemon juice|club soda  \n",
       "2  0.30  dry sherry|Cynar|aquavit|Fee Brothers peach bi...  \n",
       "3  0.35  white rum|mint leaves|simple syrup|lime juice|...  \n",
       "4  0.10  sugar|Peychaud's bitters|Fee Brothers rhubarb ...  "
      ]
     },
     "execution_count": 11,
     "metadata": {},
     "output_type": "execute_result"
    }
   ],
   "source": [
    "orig_data = 'data/all_drinks.csv'\n",
    "df = pd.read_csv(orig_data)\n",
    "df.head()"
   ]
  },
  {
   "cell_type": "code",
   "execution_count": 34,
   "metadata": {},
   "outputs": [
    {
     "data": {
      "text/html": [
       "<div>\n",
       "<style scoped>\n",
       "    .dataframe tbody tr th:only-of-type {\n",
       "        vertical-align: middle;\n",
       "    }\n",
       "\n",
       "    .dataframe tbody tr th {\n",
       "        vertical-align: top;\n",
       "    }\n",
       "\n",
       "    .dataframe thead th {\n",
       "        text-align: right;\n",
       "    }\n",
       "</style>\n",
       "<table border=\"1\" class=\"dataframe\">\n",
       "  <thead>\n",
       "    <tr style=\"text-align: right;\">\n",
       "      <th></th>\n",
       "      <th>name</th>\n",
       "      <th>alcohol</th>\n",
       "      <th>sugar</th>\n",
       "      <th>acid</th>\n",
       "      <th>oz</th>\n",
       "      <th>style</th>\n",
       "      <th>glass</th>\n",
       "      <th>melt</th>\n",
       "      <th>ingredients</th>\n",
       "      <th>all_text</th>\n",
       "      <th>x</th>\n",
       "      <th>y</th>\n",
       "    </tr>\n",
       "  </thead>\n",
       "  <tbody>\n",
       "    <tr>\n",
       "      <th>0</th>\n",
       "      <td>Angostura Fizz</td>\n",
       "      <td>0.012531</td>\n",
       "      <td>0.075125</td>\n",
       "      <td>0.015161</td>\n",
       "      <td>3.9900</td>\n",
       "      <td>fizz</td>\n",
       "      <td>coupe</td>\n",
       "      <td>0.33</td>\n",
       "      <td>Angostura bitters|lime juice|simple syrup|gren...</td>\n",
       "      <td>Angostura|Fizz|fizz|coupe|Angostura|bitters|li...</td>\n",
       "      <td>0.784468</td>\n",
       "      <td>0.113690</td>\n",
       "    </tr>\n",
       "    <tr>\n",
       "      <th>1</th>\n",
       "      <td>Blonde Redhead</td>\n",
       "      <td>0.035560</td>\n",
       "      <td>0.089224</td>\n",
       "      <td>0.004203</td>\n",
       "      <td>9.2800</td>\n",
       "      <td>NaN</td>\n",
       "      <td>NaN</td>\n",
       "      <td>0.28</td>\n",
       "      <td>aperol|grapefruit juice|lemon juice|club soda</td>\n",
       "      <td>Blonde|Redhead|nan|nan|aperol|grapefruit|juice...</td>\n",
       "      <td>0.417615</td>\n",
       "      <td>0.700092</td>\n",
       "    </tr>\n",
       "    <tr>\n",
       "      <th>2</th>\n",
       "      <td>Trident</td>\n",
       "      <td>0.091026</td>\n",
       "      <td>0.033333</td>\n",
       "      <td>0.000000</td>\n",
       "      <td>3.9000</td>\n",
       "      <td>stirred</td>\n",
       "      <td>coupe</td>\n",
       "      <td>0.30</td>\n",
       "      <td>dry sherry|Cynar|aquavit|Fee Brothers peach bi...</td>\n",
       "      <td>Trident|stirred|coupe|dry|sherry|Cynar|aquavit...</td>\n",
       "      <td>-0.362929</td>\n",
       "      <td>-0.028648</td>\n",
       "    </tr>\n",
       "    <tr>\n",
       "      <th>3</th>\n",
       "      <td>Mojito</td>\n",
       "      <td>0.098765</td>\n",
       "      <td>0.077901</td>\n",
       "      <td>0.007407</td>\n",
       "      <td>6.0750</td>\n",
       "      <td>shaken</td>\n",
       "      <td>highball</td>\n",
       "      <td>0.35</td>\n",
       "      <td>white rum|mint leaves|simple syrup|lime juice|...</td>\n",
       "      <td>Mojito|shaken|highball|white|rum|mint|leaves|s...</td>\n",
       "      <td>2.091919</td>\n",
       "      <td>-0.526404</td>\n",
       "    </tr>\n",
       "    <tr>\n",
       "      <th>4</th>\n",
       "      <td>Cricket Ball</td>\n",
       "      <td>0.099174</td>\n",
       "      <td>0.027548</td>\n",
       "      <td>0.000000</td>\n",
       "      <td>4.5375</td>\n",
       "      <td>bubbly</td>\n",
       "      <td>flute</td>\n",
       "      <td>0.10</td>\n",
       "      <td>sugar|Peychaud's bitters|Fee Brothers rhubarb ...</td>\n",
       "      <td>Cricket|Ball|bubbly|flute|sugar|Peychaud's|bit...</td>\n",
       "      <td>-1.175427</td>\n",
       "      <td>0.385564</td>\n",
       "    </tr>\n",
       "  </tbody>\n",
       "</table>\n",
       "</div>"
      ],
      "text/plain": [
       "             name   alcohol     sugar      acid      oz    style     glass  \\\n",
       "0  Angostura Fizz  0.012531  0.075125  0.015161  3.9900     fizz     coupe   \n",
       "1  Blonde Redhead  0.035560  0.089224  0.004203  9.2800      NaN       NaN   \n",
       "2         Trident  0.091026  0.033333  0.000000  3.9000  stirred     coupe   \n",
       "3          Mojito  0.098765  0.077901  0.007407  6.0750   shaken  highball   \n",
       "4    Cricket Ball  0.099174  0.027548  0.000000  4.5375   bubbly     flute   \n",
       "\n",
       "   melt                                        ingredients  \\\n",
       "0  0.33  Angostura bitters|lime juice|simple syrup|gren...   \n",
       "1  0.28      aperol|grapefruit juice|lemon juice|club soda   \n",
       "2  0.30  dry sherry|Cynar|aquavit|Fee Brothers peach bi...   \n",
       "3  0.35  white rum|mint leaves|simple syrup|lime juice|...   \n",
       "4  0.10  sugar|Peychaud's bitters|Fee Brothers rhubarb ...   \n",
       "\n",
       "                                            all_text         x         y  \n",
       "0  Angostura|Fizz|fizz|coupe|Angostura|bitters|li...  0.784468  0.113690  \n",
       "1  Blonde|Redhead|nan|nan|aperol|grapefruit|juice...  0.417615  0.700092  \n",
       "2  Trident|stirred|coupe|dry|sherry|Cynar|aquavit... -0.362929 -0.028648  \n",
       "3  Mojito|shaken|highball|white|rum|mint|leaves|s...  2.091919 -0.526404  \n",
       "4  Cricket|Ball|bubbly|flute|sugar|Peychaud's|bit... -1.175427  0.385564  "
      ]
     },
     "execution_count": 34,
     "metadata": {},
     "output_type": "execute_result"
    }
   ],
   "source": [
    "def combine(row):\n",
    "    return'|'.join([str(x).replace(' ', '|') for x in row[['name', 'style', 'glass', 'ingredients']]])\n",
    "\n",
    "df['all_text'] = df.apply(lambda row: combine(row), axis=1)\n",
    "df.head()"
   ]
  },
  {
   "cell_type": "code",
   "execution_count": null,
   "metadata": {},
   "outputs": [],
   "source": []
  },
  {
   "cell_type": "code",
   "execution_count": 42,
   "metadata": {},
   "outputs": [],
   "source": [
    "def cluster_XY(df, X, mode):\n",
    "    \"\"\"\n",
    "    X {str} - must be 'all_text', 'ingredients' or 'prep'\n",
    "    mode {str} - must be 'pca' or 'tsne' or 'mds'\n",
    "    \"\"\"\n",
    "    \n",
    "    \n",
    "    def combine(row):\n",
    "        if X == 'all_text':\n",
    "            picks = ['name', 'style', 'glass', 'ingredients']\n",
    "        elif X == 'ingredients':\n",
    "            picks = ['ingredients']\n",
    "        elif X == 'prep':\n",
    "            picks = ['name', 'style', 'glass']\n",
    "        else:\n",
    "            raise ValueError(\"must be 'all_text', 'ingredients' or 'prep'\")\n",
    "        return'|'.join([str(x).replace(' ', '|') for x in row[picks]])\n",
    "\n",
    "    df['features'] = df.apply(lambda row: combine(row), axis=1)\n",
    "\n",
    "    try:\n",
    "        docs = [c.replace('|', ' ') for c in list(df['features'])]\n",
    "    except AttributeError:\n",
    "        print(\"FAILURE: df['ingredients'] doesn't exist. Or something else went wrong.\")\n",
    "        return None\n",
    "    #\n",
    "    vectorizer = CountVectorizer(max_df=0.5, min_df=0)\n",
    "    vectors = vectorizer.fit_transform(docs)\n",
    "    print(\"vocab shape: {}\".format(vectors.shape))\n",
    "    X = vectors.toarray()\n",
    "\n",
    "    if mode == 'pca':\n",
    "        X_pca = PCA(n_components=2).fit(X).transform(X)\n",
    "        XY = pd.DataFrame(X_pca, columns = ['x', 'y'])\n",
    "        print(\"loaded PCA data\")\n",
    "    else:\n",
    "        X_pca = PCA(n_components=50).fit(X).transform(X)\n",
    "        if mode == 'tsne':\n",
    "            X_tsne = TSNE().fit(X_pca)\n",
    "            XY = pd.DataFrame(X_tsne.embedding_, columns=['x', 'y'])\n",
    "            print(\"loaded t-sne data\")\n",
    "        elif mode == 'mds':\n",
    "            dists = pdist(X_pca, cosine)\n",
    "            dist_matrix = pd.DataFrame(squareform(dists), \n",
    "                                   columns=df['name'], \n",
    "                                   index=df['name'])\n",
    "\n",
    "            scaler = MDS(dissimilarity='precomputed', random_state=123)\n",
    "            XY = pd.DataFrame(scaler.fit_transform(dist_matrix))\n",
    "            XY.rename(index=str, columns={0:'x', 1:'y'}, inplace=True)\n",
    "            print(\"loaded MDS data\")\n",
    "        else:\n",
    "            print(\"mode must be one of 'pca' or 'tsne' or 'mds'\")\n",
    "            return None\n",
    "    #\n",
    "    df['x'] = list(XY['x'])\n",
    "    df['y'] = list(XY['y'])\n",
    "    return df"
   ]
  },
  {
   "cell_type": "markdown",
   "metadata": {},
   "source": [
    "# only ingredients"
   ]
  },
  {
   "cell_type": "code",
   "execution_count": 32,
   "metadata": {},
   "outputs": [],
   "source": [
    "X = 'ingredients'"
   ]
  },
  {
   "cell_type": "code",
   "execution_count": 44,
   "metadata": {},
   "outputs": [
    {
     "name": "stdout",
     "output_type": "stream",
     "text": [
      "vocab shape: (103, 256)\n",
      "loaded PCA data\n"
     ]
    }
   ],
   "source": [
    "pick = 'pca'\n",
    "transform_df = cluster_XY(df, X, pick)\n",
    "transform_df.to_csv(orig_data.replace('data/', 'data/clustering/').replace('.csv', '-{}-{}.csv'.format(pick, X)), index=False)\n",
    "#transform_df.head()"
   ]
  },
  {
   "cell_type": "code",
   "execution_count": 45,
   "metadata": {},
   "outputs": [
    {
     "name": "stdout",
     "output_type": "stream",
     "text": [
      "vocab shape: (103, 256)\n",
      "loaded t-sne data\n"
     ]
    }
   ],
   "source": [
    "pick = 'tsne'\n",
    "transform_df = cluster_XY(df, X, pick)\n",
    "transform_df.to_csv(orig_data.replace('data/', 'data/clustering/').replace('.csv', '-{}-{}.csv'.format(pick, X)), index=False)\n",
    "#transform_df.head()"
   ]
  },
  {
   "cell_type": "code",
   "execution_count": 46,
   "metadata": {
    "scrolled": true
   },
   "outputs": [
    {
     "name": "stdout",
     "output_type": "stream",
     "text": [
      "vocab shape: (103, 256)\n",
      "loaded MDS data\n"
     ]
    }
   ],
   "source": [
    "pick = 'mds'\n",
    "transform_df = cluster_XY(df, X, pick)\n",
    "transform_df.to_csv(orig_data.replace('data/', 'data/clustering/').replace('.csv', '-{}-{}.csv'.format(pick, X)), index=False)\n",
    "#transform_df.head()"
   ]
  },
  {
   "cell_type": "code",
   "execution_count": null,
   "metadata": {},
   "outputs": [],
   "source": []
  },
  {
   "cell_type": "code",
   "execution_count": null,
   "metadata": {},
   "outputs": [],
   "source": []
  },
  {
   "cell_type": "markdown",
   "metadata": {},
   "source": [
    "# all_text"
   ]
  },
  {
   "cell_type": "code",
   "execution_count": 48,
   "metadata": {},
   "outputs": [],
   "source": [
    "X = 'all_text'"
   ]
  },
  {
   "cell_type": "code",
   "execution_count": 49,
   "metadata": {},
   "outputs": [
    {
     "name": "stdout",
     "output_type": "stream",
     "text": [
      "vocab shape: (103, 256)\n",
      "loaded PCA data\n"
     ]
    }
   ],
   "source": [
    "pick = 'pca'\n",
    "transform_df = cluster_XY(df, X, pick)\n",
    "transform_df.to_csv(orig_data.replace('data/', 'data/clustering/').replace('.csv', '-{}-{}.csv'.format(pick, X)), index=False)\n",
    "#transform_df.head()"
   ]
  },
  {
   "cell_type": "code",
   "execution_count": null,
   "metadata": {},
   "outputs": [],
   "source": []
  },
  {
   "cell_type": "code",
   "execution_count": 50,
   "metadata": {},
   "outputs": [
    {
     "name": "stdout",
     "output_type": "stream",
     "text": [
      "vocab shape: (103, 256)\n",
      "loaded t-sne data\n"
     ]
    }
   ],
   "source": [
    "pick = 'tsne'\n",
    "transform_df = cluster_XY(df, X, pick)\n",
    "transform_df.to_csv(orig_data.replace('data/', 'data/clustering/').replace('.csv', '-{}-{}.csv'.format(pick, X)), index=False)\n",
    "#transform_df.head()"
   ]
  },
  {
   "cell_type": "code",
   "execution_count": 51,
   "metadata": {
    "scrolled": true
   },
   "outputs": [
    {
     "name": "stdout",
     "output_type": "stream",
     "text": [
      "vocab shape: (103, 256)\n",
      "loaded MDS data\n"
     ]
    }
   ],
   "source": [
    "pick = 'mds'\n",
    "transform_df = cluster_XY(df, X, pick)\n",
    "transform_df.to_csv(orig_data.replace('data/', 'data/clustering/').replace('.csv', '-{}-{}.csv'.format(pick, X)), index=False)\n",
    "#transform_df.head()"
   ]
  },
  {
   "cell_type": "code",
   "execution_count": null,
   "metadata": {},
   "outputs": [],
   "source": []
  },
  {
   "cell_type": "markdown",
   "metadata": {},
   "source": [
    "# prep"
   ]
  },
  {
   "cell_type": "code",
   "execution_count": 52,
   "metadata": {},
   "outputs": [],
   "source": [
    "X = 'prep'"
   ]
  },
  {
   "cell_type": "code",
   "execution_count": 53,
   "metadata": {},
   "outputs": [
    {
     "name": "stdout",
     "output_type": "stream",
     "text": [
      "vocab shape: (103, 155)\n",
      "loaded PCA data\n"
     ]
    }
   ],
   "source": [
    "pick = 'pca'\n",
    "transform_df = cluster_XY(df, X, pick)\n",
    "transform_df.to_csv(orig_data.replace('data/', 'data/clustering/').replace('.csv', '-{}-{}.csv'.format(pick, X)), index=False)\n",
    "#transform_df.head()"
   ]
  },
  {
   "cell_type": "code",
   "execution_count": null,
   "metadata": {},
   "outputs": [],
   "source": []
  },
  {
   "cell_type": "code",
   "execution_count": 54,
   "metadata": {},
   "outputs": [
    {
     "name": "stdout",
     "output_type": "stream",
     "text": [
      "vocab shape: (103, 155)\n",
      "loaded t-sne data\n"
     ]
    }
   ],
   "source": [
    "pick = 'tsne'\n",
    "transform_df = cluster_XY(df, X, pick)\n",
    "transform_df.to_csv(orig_data.replace('data/', 'data/clustering/').replace('.csv', '-{}-{}.csv'.format(pick, X)), index=False)\n",
    "#transform_df.head()"
   ]
  },
  {
   "cell_type": "code",
   "execution_count": 55,
   "metadata": {
    "scrolled": true
   },
   "outputs": [
    {
     "name": "stdout",
     "output_type": "stream",
     "text": [
      "vocab shape: (103, 155)\n",
      "loaded MDS data\n"
     ]
    }
   ],
   "source": [
    "pick = 'mds'\n",
    "transform_df = cluster_XY(df, X, pick)\n",
    "transform_df.to_csv(orig_data.replace('data/', 'data/clustering/').replace('.csv', '-{}-{}.csv'.format(pick, X)), index=False)\n",
    "#transform_df.head()"
   ]
  },
  {
   "cell_type": "code",
   "execution_count": null,
   "metadata": {},
   "outputs": [],
   "source": []
  },
  {
   "cell_type": "code",
   "execution_count": null,
   "metadata": {},
   "outputs": [],
   "source": []
  },
  {
   "cell_type": "code",
   "execution_count": null,
   "metadata": {},
   "outputs": [],
   "source": []
  },
  {
   "cell_type": "code",
   "execution_count": 30,
   "metadata": {},
   "outputs": [
    {
     "data": {
      "text/plain": [
       "'Angostura Fizz fizz coupe Angostura bitters lime juice simple syrup grenadine heavy cream egg white soda water'"
      ]
     },
     "execution_count": 30,
     "metadata": {},
     "output_type": "execute_result"
    }
   ],
   "source": [
    "docs = [c.replace('|', ' ') for c in list(df['all_text'])]\n",
    "docs[0]"
   ]
  },
  {
   "cell_type": "code",
   "execution_count": null,
   "metadata": {},
   "outputs": [],
   "source": [
    "#\n",
    "vectorizer = CountVectorizer(max_df=0.5, min_df=0)\n",
    "vectors = vectorizer.fit_transform(docs)\n",
    "print(\"vocab shape: {}\".format(vectors.shape))\n",
    "X = vectors.toarray()\n",
    "return X"
   ]
  },
  {
   "cell_type": "code",
   "execution_count": null,
   "metadata": {},
   "outputs": [],
   "source": []
  },
  {
   "cell_type": "code",
   "execution_count": null,
   "metadata": {},
   "outputs": [],
   "source": []
  },
  {
   "cell_type": "code",
   "execution_count": 24,
   "metadata": {},
   "outputs": [],
   "source": [
    "def cluster_all_XY(df, mode):\n",
    "    \"\"\"mode must be 'pca' or 'tsne' or 'mds'\n",
    "    \"\"\"\n",
    "    try:\n",
    "        docs = [c.replace('|', ' ') for c in list(df['ingredients'])]\n",
    "    except AttributeError:\n",
    "        print(\"FAILURE: df['ingredients'] doesn't exist. Or something else went wrong.\")\n",
    "        return None\n",
    "    #\n",
    "    vectorizer = CountVectorizer(max_df=0.5, min_df=0)\n",
    "    vectors = vectorizer.fit_transform(docs)\n",
    "    print(\"vocab shape: {}\".format(vectors.shape))\n",
    "    X = vectors.toarray()\n",
    "\n",
    "    if mode == 'pca':\n",
    "        X_pca = PCA(n_components=2).fit(X).transform(X)\n",
    "        XY = pd.DataFrame(X_pca, columns = ['x', 'y'])\n",
    "        print(\"loaded PCA data\")\n",
    "    else:\n",
    "        X_pca = PCA(n_components=50).fit(X).transform(X)\n",
    "        if mode == 'tsne':\n",
    "            X_tsne = TSNE().fit(X_pca)\n",
    "            XY = pd.DataFrame(X_tsne.embedding_, columns=['x', 'y'])\n",
    "            print(\"loaded t-sne data\")\n",
    "        elif mode == 'mds':\n",
    "            dists = pdist(X_pca, cosine)\n",
    "            dist_matrix = pd.DataFrame(squareform(dists), \n",
    "                                   columns=df['name'], \n",
    "                                   index=df['name'])\n",
    "\n",
    "            scaler = MDS(dissimilarity='precomputed', random_state=123)\n",
    "            XY = pd.DataFrame(scaler.fit_transform(dist_matrix))\n",
    "            XY.rename(index=str, columns={0:'x', 1:'y'}, inplace=True)\n",
    "            print(\"loaded MDS data\")\n",
    "        else:\n",
    "            print(\"mode must be one of 'pca' or 'tsne' or 'mds'\")\n",
    "            return None\n",
    "    #\n",
    "    df['x'] = list(XY['x'])\n",
    "    df['y'] = list(XY['y'])\n",
    "    return df"
   ]
  },
  {
   "cell_type": "code",
   "execution_count": 18,
   "metadata": {},
   "outputs": [
    {
     "name": "stdout",
     "output_type": "stream",
     "text": [
      "vocab shape: (103, 122)\n",
      "loaded PCA data\n",
      "Index(['name', 'alcohol', 'sugar', 'acid', 'oz', 'style', 'glass', 'melt',\n",
      "       'ingredients', 'x', 'y'],\n",
      "      dtype='object')\n"
     ]
    },
    {
     "data": {
      "text/html": [
       "<div>\n",
       "<style scoped>\n",
       "    .dataframe tbody tr th:only-of-type {\n",
       "        vertical-align: middle;\n",
       "    }\n",
       "\n",
       "    .dataframe tbody tr th {\n",
       "        vertical-align: top;\n",
       "    }\n",
       "\n",
       "    .dataframe thead th {\n",
       "        text-align: right;\n",
       "    }\n",
       "</style>\n",
       "<table border=\"1\" class=\"dataframe\">\n",
       "  <thead>\n",
       "    <tr style=\"text-align: right;\">\n",
       "      <th></th>\n",
       "      <th>name</th>\n",
       "      <th>alcohol</th>\n",
       "      <th>sugar</th>\n",
       "      <th>acid</th>\n",
       "      <th>oz</th>\n",
       "      <th>style</th>\n",
       "      <th>glass</th>\n",
       "      <th>melt</th>\n",
       "      <th>ingredients</th>\n",
       "      <th>x</th>\n",
       "      <th>y</th>\n",
       "    </tr>\n",
       "  </thead>\n",
       "  <tbody>\n",
       "    <tr>\n",
       "      <th>0</th>\n",
       "      <td>Angostura Fizz</td>\n",
       "      <td>0.012531</td>\n",
       "      <td>0.075125</td>\n",
       "      <td>0.015161</td>\n",
       "      <td>3.9900</td>\n",
       "      <td>fizz</td>\n",
       "      <td>coupe</td>\n",
       "      <td>0.33</td>\n",
       "      <td>Angostura bitters|lime juice|simple syrup|gren...</td>\n",
       "      <td>0.784468</td>\n",
       "      <td>0.113690</td>\n",
       "    </tr>\n",
       "    <tr>\n",
       "      <th>1</th>\n",
       "      <td>Blonde Redhead</td>\n",
       "      <td>0.035560</td>\n",
       "      <td>0.089224</td>\n",
       "      <td>0.004203</td>\n",
       "      <td>9.2800</td>\n",
       "      <td>NaN</td>\n",
       "      <td>NaN</td>\n",
       "      <td>0.28</td>\n",
       "      <td>aperol|grapefruit juice|lemon juice|club soda</td>\n",
       "      <td>0.417615</td>\n",
       "      <td>0.700092</td>\n",
       "    </tr>\n",
       "    <tr>\n",
       "      <th>2</th>\n",
       "      <td>Trident</td>\n",
       "      <td>0.091026</td>\n",
       "      <td>0.033333</td>\n",
       "      <td>0.000000</td>\n",
       "      <td>3.9000</td>\n",
       "      <td>stirred</td>\n",
       "      <td>coupe</td>\n",
       "      <td>0.30</td>\n",
       "      <td>dry sherry|Cynar|aquavit|Fee Brothers peach bi...</td>\n",
       "      <td>-0.362929</td>\n",
       "      <td>-0.028648</td>\n",
       "    </tr>\n",
       "    <tr>\n",
       "      <th>3</th>\n",
       "      <td>Mojito</td>\n",
       "      <td>0.098765</td>\n",
       "      <td>0.077901</td>\n",
       "      <td>0.007407</td>\n",
       "      <td>6.0750</td>\n",
       "      <td>shaken</td>\n",
       "      <td>highball</td>\n",
       "      <td>0.35</td>\n",
       "      <td>white rum|mint leaves|simple syrup|lime juice|...</td>\n",
       "      <td>2.091919</td>\n",
       "      <td>-0.526404</td>\n",
       "    </tr>\n",
       "    <tr>\n",
       "      <th>4</th>\n",
       "      <td>Cricket Ball</td>\n",
       "      <td>0.099174</td>\n",
       "      <td>0.027548</td>\n",
       "      <td>0.000000</td>\n",
       "      <td>4.5375</td>\n",
       "      <td>bubbly</td>\n",
       "      <td>flute</td>\n",
       "      <td>0.10</td>\n",
       "      <td>sugar|Peychaud's bitters|Fee Brothers rhubarb ...</td>\n",
       "      <td>-1.175427</td>\n",
       "      <td>0.385564</td>\n",
       "    </tr>\n",
       "  </tbody>\n",
       "</table>\n",
       "</div>"
      ],
      "text/plain": [
       "             name   alcohol     sugar      acid      oz    style     glass  \\\n",
       "0  Angostura Fizz  0.012531  0.075125  0.015161  3.9900     fizz     coupe   \n",
       "1  Blonde Redhead  0.035560  0.089224  0.004203  9.2800      NaN       NaN   \n",
       "2         Trident  0.091026  0.033333  0.000000  3.9000  stirred     coupe   \n",
       "3          Mojito  0.098765  0.077901  0.007407  6.0750   shaken  highball   \n",
       "4    Cricket Ball  0.099174  0.027548  0.000000  4.5375   bubbly     flute   \n",
       "\n",
       "   melt                                        ingredients         x         y  \n",
       "0  0.33  Angostura bitters|lime juice|simple syrup|gren...  0.784468  0.113690  \n",
       "1  0.28      aperol|grapefruit juice|lemon juice|club soda  0.417615  0.700092  \n",
       "2  0.30  dry sherry|Cynar|aquavit|Fee Brothers peach bi... -0.362929 -0.028648  \n",
       "3  0.35  white rum|mint leaves|simple syrup|lime juice|...  2.091919 -0.526404  \n",
       "4  0.10  sugar|Peychaud's bitters|Fee Brothers rhubarb ... -1.175427  0.385564  "
      ]
     },
     "execution_count": 18,
     "metadata": {},
     "output_type": "execute_result"
    }
   ],
   "source": [
    "pick = 'pca'\n",
    "transform_df = cluster_all_XY(df, pick)\n",
    "transform_df.to_csv(orig_data.replace('data/', 'data/clustering/').replace('.csv', '-{}-all.csv'.format(pick)), index=False)\n",
    "print(transform_df.columns)\n",
    "transform_df.head()"
   ]
  },
  {
   "cell_type": "code",
   "execution_count": 20,
   "metadata": {},
   "outputs": [
    {
     "name": "stdout",
     "output_type": "stream",
     "text": [
      "vocab shape: (103, 122)\n",
      "loaded t-sne data\n",
      "Index(['name', 'alcohol', 'sugar', 'acid', 'oz', 'style', 'glass', 'melt',\n",
      "       'ingredients', 'x', 'y'],\n",
      "      dtype='object')\n"
     ]
    },
    {
     "data": {
      "text/html": [
       "<div>\n",
       "<style scoped>\n",
       "    .dataframe tbody tr th:only-of-type {\n",
       "        vertical-align: middle;\n",
       "    }\n",
       "\n",
       "    .dataframe tbody tr th {\n",
       "        vertical-align: top;\n",
       "    }\n",
       "\n",
       "    .dataframe thead th {\n",
       "        text-align: right;\n",
       "    }\n",
       "</style>\n",
       "<table border=\"1\" class=\"dataframe\">\n",
       "  <thead>\n",
       "    <tr style=\"text-align: right;\">\n",
       "      <th></th>\n",
       "      <th>name</th>\n",
       "      <th>alcohol</th>\n",
       "      <th>sugar</th>\n",
       "      <th>acid</th>\n",
       "      <th>oz</th>\n",
       "      <th>style</th>\n",
       "      <th>glass</th>\n",
       "      <th>melt</th>\n",
       "      <th>ingredients</th>\n",
       "      <th>x</th>\n",
       "      <th>y</th>\n",
       "    </tr>\n",
       "  </thead>\n",
       "  <tbody>\n",
       "    <tr>\n",
       "      <th>0</th>\n",
       "      <td>Angostura Fizz</td>\n",
       "      <td>0.012531</td>\n",
       "      <td>0.075125</td>\n",
       "      <td>0.015161</td>\n",
       "      <td>3.9900</td>\n",
       "      <td>fizz</td>\n",
       "      <td>coupe</td>\n",
       "      <td>0.33</td>\n",
       "      <td>Angostura bitters|lime juice|simple syrup|gren...</td>\n",
       "      <td>9.198922</td>\n",
       "      <td>-36.220450</td>\n",
       "    </tr>\n",
       "    <tr>\n",
       "      <th>1</th>\n",
       "      <td>Blonde Redhead</td>\n",
       "      <td>0.035560</td>\n",
       "      <td>0.089224</td>\n",
       "      <td>0.004203</td>\n",
       "      <td>9.2800</td>\n",
       "      <td>NaN</td>\n",
       "      <td>NaN</td>\n",
       "      <td>0.28</td>\n",
       "      <td>aperol|grapefruit juice|lemon juice|club soda</td>\n",
       "      <td>61.481007</td>\n",
       "      <td>-38.168635</td>\n",
       "    </tr>\n",
       "    <tr>\n",
       "      <th>2</th>\n",
       "      <td>Trident</td>\n",
       "      <td>0.091026</td>\n",
       "      <td>0.033333</td>\n",
       "      <td>0.000000</td>\n",
       "      <td>3.9000</td>\n",
       "      <td>stirred</td>\n",
       "      <td>coupe</td>\n",
       "      <td>0.30</td>\n",
       "      <td>dry sherry|Cynar|aquavit|Fee Brothers peach bi...</td>\n",
       "      <td>-52.318292</td>\n",
       "      <td>70.429747</td>\n",
       "    </tr>\n",
       "    <tr>\n",
       "      <th>3</th>\n",
       "      <td>Mojito</td>\n",
       "      <td>0.098765</td>\n",
       "      <td>0.077901</td>\n",
       "      <td>0.007407</td>\n",
       "      <td>6.0750</td>\n",
       "      <td>shaken</td>\n",
       "      <td>highball</td>\n",
       "      <td>0.35</td>\n",
       "      <td>white rum|mint leaves|simple syrup|lime juice|...</td>\n",
       "      <td>-10.589890</td>\n",
       "      <td>2.765133</td>\n",
       "    </tr>\n",
       "    <tr>\n",
       "      <th>4</th>\n",
       "      <td>Cricket Ball</td>\n",
       "      <td>0.099174</td>\n",
       "      <td>0.027548</td>\n",
       "      <td>0.000000</td>\n",
       "      <td>4.5375</td>\n",
       "      <td>bubbly</td>\n",
       "      <td>flute</td>\n",
       "      <td>0.10</td>\n",
       "      <td>sugar|Peychaud's bitters|Fee Brothers rhubarb ...</td>\n",
       "      <td>42.484675</td>\n",
       "      <td>11.122907</td>\n",
       "    </tr>\n",
       "  </tbody>\n",
       "</table>\n",
       "</div>"
      ],
      "text/plain": [
       "             name   alcohol     sugar      acid      oz    style     glass  \\\n",
       "0  Angostura Fizz  0.012531  0.075125  0.015161  3.9900     fizz     coupe   \n",
       "1  Blonde Redhead  0.035560  0.089224  0.004203  9.2800      NaN       NaN   \n",
       "2         Trident  0.091026  0.033333  0.000000  3.9000  stirred     coupe   \n",
       "3          Mojito  0.098765  0.077901  0.007407  6.0750   shaken  highball   \n",
       "4    Cricket Ball  0.099174  0.027548  0.000000  4.5375   bubbly     flute   \n",
       "\n",
       "   melt                                        ingredients          x  \\\n",
       "0  0.33  Angostura bitters|lime juice|simple syrup|gren...   9.198922   \n",
       "1  0.28      aperol|grapefruit juice|lemon juice|club soda  61.481007   \n",
       "2  0.30  dry sherry|Cynar|aquavit|Fee Brothers peach bi... -52.318292   \n",
       "3  0.35  white rum|mint leaves|simple syrup|lime juice|... -10.589890   \n",
       "4  0.10  sugar|Peychaud's bitters|Fee Brothers rhubarb ...  42.484675   \n",
       "\n",
       "           y  \n",
       "0 -36.220450  \n",
       "1 -38.168635  \n",
       "2  70.429747  \n",
       "3   2.765133  \n",
       "4  11.122907  "
      ]
     },
     "execution_count": 20,
     "metadata": {},
     "output_type": "execute_result"
    }
   ],
   "source": [
    "pick = 'tsne'\n",
    "transform_df = cluster_all_XY(df, pick)\n",
    "transform_df.to_csv(orig_data.replace('data/', 'data/clustering/').replace('.csv', '-{}-all.csv'.format(pick)), index=False)\n",
    "print(transform_df.columns)\n",
    "transform_df.head()"
   ]
  },
  {
   "cell_type": "code",
   "execution_count": 26,
   "metadata": {
    "scrolled": true
   },
   "outputs": [
    {
     "name": "stdout",
     "output_type": "stream",
     "text": [
      "vocab shape: (103, 122)\n",
      "loaded MDS data\n",
      "Index(['name', 'alcohol', 'sugar', 'acid', 'oz', 'style', 'glass', 'melt',\n",
      "       'ingredients', 'x', 'y'],\n",
      "      dtype='object')\n"
     ]
    },
    {
     "data": {
      "text/html": [
       "<div>\n",
       "<style scoped>\n",
       "    .dataframe tbody tr th:only-of-type {\n",
       "        vertical-align: middle;\n",
       "    }\n",
       "\n",
       "    .dataframe tbody tr th {\n",
       "        vertical-align: top;\n",
       "    }\n",
       "\n",
       "    .dataframe thead th {\n",
       "        text-align: right;\n",
       "    }\n",
       "</style>\n",
       "<table border=\"1\" class=\"dataframe\">\n",
       "  <thead>\n",
       "    <tr style=\"text-align: right;\">\n",
       "      <th></th>\n",
       "      <th>name</th>\n",
       "      <th>alcohol</th>\n",
       "      <th>sugar</th>\n",
       "      <th>acid</th>\n",
       "      <th>oz</th>\n",
       "      <th>style</th>\n",
       "      <th>glass</th>\n",
       "      <th>melt</th>\n",
       "      <th>ingredients</th>\n",
       "      <th>x</th>\n",
       "      <th>y</th>\n",
       "    </tr>\n",
       "  </thead>\n",
       "  <tbody>\n",
       "    <tr>\n",
       "      <th>0</th>\n",
       "      <td>Angostura Fizz</td>\n",
       "      <td>0.012531</td>\n",
       "      <td>0.075125</td>\n",
       "      <td>0.015161</td>\n",
       "      <td>3.9900</td>\n",
       "      <td>fizz</td>\n",
       "      <td>coupe</td>\n",
       "      <td>0.33</td>\n",
       "      <td>Angostura bitters|lime juice|simple syrup|gren...</td>\n",
       "      <td>0.761187</td>\n",
       "      <td>-0.070207</td>\n",
       "    </tr>\n",
       "    <tr>\n",
       "      <th>1</th>\n",
       "      <td>Blonde Redhead</td>\n",
       "      <td>0.035560</td>\n",
       "      <td>0.089224</td>\n",
       "      <td>0.004203</td>\n",
       "      <td>9.2800</td>\n",
       "      <td>NaN</td>\n",
       "      <td>NaN</td>\n",
       "      <td>0.28</td>\n",
       "      <td>aperol|grapefruit juice|lemon juice|club soda</td>\n",
       "      <td>0.040795</td>\n",
       "      <td>-0.359459</td>\n",
       "    </tr>\n",
       "    <tr>\n",
       "      <th>2</th>\n",
       "      <td>Trident</td>\n",
       "      <td>0.091026</td>\n",
       "      <td>0.033333</td>\n",
       "      <td>0.000000</td>\n",
       "      <td>3.9000</td>\n",
       "      <td>stirred</td>\n",
       "      <td>coupe</td>\n",
       "      <td>0.30</td>\n",
       "      <td>dry sherry|Cynar|aquavit|Fee Brothers peach bi...</td>\n",
       "      <td>-0.100427</td>\n",
       "      <td>0.259957</td>\n",
       "    </tr>\n",
       "    <tr>\n",
       "      <th>3</th>\n",
       "      <td>Mojito</td>\n",
       "      <td>0.098765</td>\n",
       "      <td>0.077901</td>\n",
       "      <td>0.007407</td>\n",
       "      <td>6.0750</td>\n",
       "      <td>shaken</td>\n",
       "      <td>highball</td>\n",
       "      <td>0.35</td>\n",
       "      <td>white rum|mint leaves|simple syrup|lime juice|...</td>\n",
       "      <td>0.201327</td>\n",
       "      <td>-0.791106</td>\n",
       "    </tr>\n",
       "    <tr>\n",
       "      <th>4</th>\n",
       "      <td>Cricket Ball</td>\n",
       "      <td>0.099174</td>\n",
       "      <td>0.027548</td>\n",
       "      <td>0.000000</td>\n",
       "      <td>4.5375</td>\n",
       "      <td>bubbly</td>\n",
       "      <td>flute</td>\n",
       "      <td>0.10</td>\n",
       "      <td>sugar|Peychaud's bitters|Fee Brothers rhubarb ...</td>\n",
       "      <td>-0.131905</td>\n",
       "      <td>0.473933</td>\n",
       "    </tr>\n",
       "  </tbody>\n",
       "</table>\n",
       "</div>"
      ],
      "text/plain": [
       "             name   alcohol     sugar      acid      oz    style     glass  \\\n",
       "0  Angostura Fizz  0.012531  0.075125  0.015161  3.9900     fizz     coupe   \n",
       "1  Blonde Redhead  0.035560  0.089224  0.004203  9.2800      NaN       NaN   \n",
       "2         Trident  0.091026  0.033333  0.000000  3.9000  stirred     coupe   \n",
       "3          Mojito  0.098765  0.077901  0.007407  6.0750   shaken  highball   \n",
       "4    Cricket Ball  0.099174  0.027548  0.000000  4.5375   bubbly     flute   \n",
       "\n",
       "   melt                                        ingredients         x         y  \n",
       "0  0.33  Angostura bitters|lime juice|simple syrup|gren...  0.761187 -0.070207  \n",
       "1  0.28      aperol|grapefruit juice|lemon juice|club soda  0.040795 -0.359459  \n",
       "2  0.30  dry sherry|Cynar|aquavit|Fee Brothers peach bi... -0.100427  0.259957  \n",
       "3  0.35  white rum|mint leaves|simple syrup|lime juice|...  0.201327 -0.791106  \n",
       "4  0.10  sugar|Peychaud's bitters|Fee Brothers rhubarb ... -0.131905  0.473933  "
      ]
     },
     "execution_count": 26,
     "metadata": {},
     "output_type": "execute_result"
    }
   ],
   "source": [
    "pick = 'mds'\n",
    "transform_df = cluster_all_XY(df, pick)\n",
    "transform_df.to_csv(orig_data.replace('data/', 'data/clustering/').replace('.csv', '-{}-all.csv'.format(pick)), index=False)\n",
    "print(transform_df.columns)\n",
    "transform_df.head()"
   ]
  }
 ],
 "metadata": {
  "anaconda-cloud": {},
  "kernelspec": {
   "display_name": "Python [Root]",
   "language": "python",
   "name": "Python [Root]"
  },
  "language_info": {
   "codemirror_mode": {
    "name": "ipython",
    "version": 3
   },
   "file_extension": ".py",
   "mimetype": "text/x-python",
   "name": "python",
   "nbconvert_exporter": "python",
   "pygments_lexer": "ipython3",
   "version": "3.5.1"
  }
 },
 "nbformat": 4,
 "nbformat_minor": 2
}
