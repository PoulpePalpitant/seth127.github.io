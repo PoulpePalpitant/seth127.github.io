{
 "cells": [
  {
   "cell_type": "code",
   "execution_count": 20,
   "metadata": {
    "collapsed": true
   },
   "outputs": [],
   "source": [
    "import pandas as pd\n",
    "import numpy as np\n",
    "saveDir = 'plotData/RF-OUP'"
   ]
  },
  {
   "cell_type": "code",
   "execution_count": 7,
   "metadata": {
    "collapsed": false
   },
   "outputs": [],
   "source": [
    "simDF = pd.read_csv(saveDir + '/epochStats.csv')"
   ]
  },
  {
   "cell_type": "code",
   "execution_count": null,
   "metadata": {
    "collapsed": false
   },
   "outputs": [],
   "source": [
    "## returns df, with stats summarised by groups of scaleFactor\n",
    "scaleEpochs <- function(df, scaleFactor=10, learningCutoff=1) {\n",
    "  df <- df[learningCutoff:nrow(df),]\n",
    "  # create label vector (scale Factor is number of groups created)\n",
    "  labels <- numeric()\n",
    "  for (num in 1:scaleFactor) {\n",
    "    labels <- c(labels, rep(num,ceiling(nrow(df)/scaleFactor)))\n",
    "  }\n",
    "  # assign label vector to column\n",
    "  df$labels <- labels[1:nrow(df)]\n",
    "  # convert to long format\n",
    "  df <- gather(df[,c(5,8:18)], 'stat','value',-labels)\n",
    "  # summarise each stat by label\n",
    "  df <- summarise(group_by(df, labels, stat), value=mean(value))\n",
    "  #\n",
    "  df\n",
    "}"
   ]
  },
  {
   "cell_type": "code",
   "execution_count": 19,
   "metadata": {
    "collapsed": false
   },
   "outputs": [
    {
     "data": {
      "text/html": [
       "<div>\n",
       "<table border=\"1\" class=\"dataframe\">\n",
       "  <thead>\n",
       "    <tr style=\"text-align: right;\">\n",
       "      <th></th>\n",
       "      <th>tests</th>\n",
       "      <th>years</th>\n",
       "      <th>firstExt</th>\n",
       "      <th>firstExtSTD</th>\n",
       "      <th>deadWorld</th>\n",
       "      <th>deadWorldSTD</th>\n",
       "      <th>id</th>\n",
       "      <th>wolfEn</th>\n",
       "      <th>wolfRe</th>\n",
       "      <th>wolfFa</th>\n",
       "      <th>rabbitEn</th>\n",
       "      <th>rabbitRe</th>\n",
       "      <th>rabbitFa</th>\n",
       "      <th>wolfNum</th>\n",
       "      <th>rabbitNum</th>\n",
       "      <th>grassNum</th>\n",
       "      <th>debrisNum</th>\n",
       "    </tr>\n",
       "  </thead>\n",
       "  <tbody>\n",
       "    <tr>\n",
       "      <th>70</th>\n",
       "      <td>1</td>\n",
       "      <td>500</td>\n",
       "      <td>500.0</td>\n",
       "      <td>0.0</td>\n",
       "      <td>500.0</td>\n",
       "      <td>0.0</td>\n",
       "      <td>'RCWMOE'</td>\n",
       "      <td>197</td>\n",
       "      <td>369</td>\n",
       "      <td>8</td>\n",
       "      <td>26</td>\n",
       "      <td>105</td>\n",
       "      <td>11</td>\n",
       "      <td>1</td>\n",
       "      <td>6</td>\n",
       "      <td>63</td>\n",
       "      <td>72</td>\n",
       "    </tr>\n",
       "    <tr>\n",
       "      <th>71</th>\n",
       "      <td>1</td>\n",
       "      <td>500</td>\n",
       "      <td>500.0</td>\n",
       "      <td>0.0</td>\n",
       "      <td>500.0</td>\n",
       "      <td>0.0</td>\n",
       "      <td>'7Z5P1O'</td>\n",
       "      <td>213</td>\n",
       "      <td>369</td>\n",
       "      <td>5</td>\n",
       "      <td>25</td>\n",
       "      <td>106</td>\n",
       "      <td>7</td>\n",
       "      <td>1</td>\n",
       "      <td>13</td>\n",
       "      <td>58</td>\n",
       "      <td>71</td>\n",
       "    </tr>\n",
       "    <tr>\n",
       "      <th>72</th>\n",
       "      <td>1</td>\n",
       "      <td>500</td>\n",
       "      <td>500.0</td>\n",
       "      <td>0.0</td>\n",
       "      <td>500.0</td>\n",
       "      <td>0.0</td>\n",
       "      <td>'YKQ6IF'</td>\n",
       "      <td>205</td>\n",
       "      <td>362</td>\n",
       "      <td>5</td>\n",
       "      <td>25</td>\n",
       "      <td>105</td>\n",
       "      <td>5</td>\n",
       "      <td>1</td>\n",
       "      <td>9</td>\n",
       "      <td>61</td>\n",
       "      <td>67</td>\n",
       "    </tr>\n",
       "    <tr>\n",
       "      <th>73</th>\n",
       "      <td>1</td>\n",
       "      <td>500</td>\n",
       "      <td>285.0</td>\n",
       "      <td>0.0</td>\n",
       "      <td>285.0</td>\n",
       "      <td>0.0</td>\n",
       "      <td>'ID9ODC'</td>\n",
       "      <td>204</td>\n",
       "      <td>358</td>\n",
       "      <td>5</td>\n",
       "      <td>25</td>\n",
       "      <td>104</td>\n",
       "      <td>5</td>\n",
       "      <td>2</td>\n",
       "      <td>9</td>\n",
       "      <td>64</td>\n",
       "      <td>76</td>\n",
       "    </tr>\n",
       "    <tr>\n",
       "      <th>74</th>\n",
       "      <td>1</td>\n",
       "      <td>500</td>\n",
       "      <td>500.0</td>\n",
       "      <td>0.0</td>\n",
       "      <td>500.0</td>\n",
       "      <td>0.0</td>\n",
       "      <td>'JD2A9M'</td>\n",
       "      <td>200</td>\n",
       "      <td>350</td>\n",
       "      <td>5</td>\n",
       "      <td>25</td>\n",
       "      <td>101</td>\n",
       "      <td>8</td>\n",
       "      <td>1</td>\n",
       "      <td>13</td>\n",
       "      <td>61</td>\n",
       "      <td>69</td>\n",
       "    </tr>\n",
       "  </tbody>\n",
       "</table>\n",
       "</div>"
      ],
      "text/plain": [
       "    tests  years  firstExt  firstExtSTD  deadWorld  deadWorldSTD         id  \\\n",
       "70      1    500     500.0          0.0      500.0           0.0   'RCWMOE'   \n",
       "71      1    500     500.0          0.0      500.0           0.0   '7Z5P1O'   \n",
       "72      1    500     500.0          0.0      500.0           0.0   'YKQ6IF'   \n",
       "73      1    500     285.0          0.0      285.0           0.0   'ID9ODC'   \n",
       "74      1    500     500.0          0.0      500.0           0.0   'JD2A9M'   \n",
       "\n",
       "    wolfEn  wolfRe  wolfFa  rabbitEn  rabbitRe  rabbitFa  wolfNum  rabbitNum  \\\n",
       "70     197     369       8        26       105        11        1          6   \n",
       "71     213     369       5        25       106         7        1         13   \n",
       "72     205     362       5        25       105         5        1          9   \n",
       "73     204     358       5        25       104         5        2          9   \n",
       "74     200     350       5        25       101         8        1         13   \n",
       "\n",
       "    grassNum  debrisNum  \n",
       "70        63         72  \n",
       "71        58         71  \n",
       "72        61         67  \n",
       "73        64         76  \n",
       "74        61         69  "
      ]
     },
     "execution_count": 19,
     "metadata": {},
     "output_type": "execute_result"
    }
   ],
   "source": [
    "simDF.tail()"
   ]
  },
  {
   "cell_type": "code",
   "execution_count": 51,
   "metadata": {
    "collapsed": false
   },
   "outputs": [],
   "source": [
    "scaleFactor = 10\n",
    "dfLen = simDF.shape[0]\n",
    "labels = []\n",
    "for num in range(1,scaleFactor+1):\n",
    "    labels += [num for x in range(int(np.ceil(dfLen/scaleFactor)))]  \n",
    "len(labels[:dfLen])\n",
    "simDF['labels'] = labels[:dfLen]\n"
   ]
  },
  {
   "cell_type": "code",
   "execution_count": 53,
   "metadata": {
    "collapsed": false
   },
   "outputs": [],
   "source": [
    "#simDF"
   ]
  },
  {
   "cell_type": "code",
   "execution_count": null,
   "metadata": {
    "collapsed": true
   },
   "outputs": [],
   "source": [
    "def makeLongEpochStats(df, scaleFactor=10, learningCutoff=0):\n",
    "    dfLen = df.shape[0]\n",
    "    df = df.iloc[learningCutoff:dfLen]\n",
    "    # create label vector\n",
    "    labels = []\n",
    "    for num in range(scaleFactor):\n",
    "        labels += [num for x in range(int(np.ceil(dfLen/scaleFactor)))]\n",
    "    # assign label vector to column\n",
    "    df['labels'] = labels[:dfLen]\n",
    "    # convert to long format\n",
    "    df_long = pd.melt(df, id_vars=['labels'], value_vars=stats)\n",
    "    # summarize each stat by label\n",
    "    df_long.groupby(['labels','variable'])['value'].mean()\n",
    "    # write to csv\n",
    "    pd.DataFrame(newDF).to_csv('epochStats-long.csv')"
   ]
  },
  {
   "cell_type": "code",
   "execution_count": null,
   "metadata": {
    "collapsed": true
   },
   "outputs": [],
   "source": []
  },
  {
   "cell_type": "code",
   "execution_count": 67,
   "metadata": {
    "collapsed": false
   },
   "outputs": [],
   "source": [
    "stats = ['deadWorld','wolfEn', 'wolfRe', 'wolfFa', 'rabbitEn', 'rabbitRe', 'rabbitFa', \n",
    "           'wolfNum', 'rabbitNum', 'grassNum', 'debrisNum']\n",
    "#df[stats]"
   ]
  },
  {
   "cell_type": "code",
   "execution_count": 74,
   "metadata": {
    "collapsed": false
   },
   "outputs": [],
   "source": [
    "df_long = pd.melt(df, id_vars=['labels'], value_vars=stats)\n",
    "newDF = df_long.groupby(['labels','variable'])['value'].mean()"
   ]
  },
  {
   "cell_type": "code",
   "execution_count": 82,
   "metadata": {
    "collapsed": false
   },
   "outputs": [],
   "source": [
    "#newDF.to_csv('naw.csv', columns=['labels','stat','value'])\n",
    "pd.DataFrame(newDF).to_csv('naw.csv')"
   ]
  },
  {
   "cell_type": "code",
   "execution_count": 91,
   "metadata": {
    "collapsed": false
   },
   "outputs": [],
   "source": [
    "file = open(saveDir + '/epochStats.csv', \"a\")"
   ]
  },
  {
   "cell_type": "code",
   "execution_count": 84,
   "metadata": {
    "collapsed": false
   },
   "outputs": [
    {
     "data": {
      "text/plain": [
       "<_io.TextIOWrapper name='plotData/RF-OUP/epochStats.csv' mode='a' encoding='UTF-8'>"
      ]
     },
     "execution_count": 84,
     "metadata": {},
     "output_type": "execute_result"
    }
   ],
   "source": [
    "file"
   ]
  },
  {
   "cell_type": "code",
   "execution_count": null,
   "metadata": {
    "collapsed": false
   },
   "outputs": [],
   "source": []
  },
  {
   "cell_type": "code",
   "execution_count": 89,
   "metadata": {
    "collapsed": false
   },
   "outputs": [
    {
     "ename": "UnsupportedOperation",
     "evalue": "not readable",
     "output_type": "error",
     "traceback": [
      "\u001b[0;31m---------------------------------------------------------------------------\u001b[0m",
      "\u001b[0;31mUnsupportedOperation\u001b[0m                      Traceback (most recent call last)",
      "\u001b[0;32m<ipython-input-89-60fc45e6a4ff>\u001b[0m in \u001b[0;36m<module>\u001b[0;34m()\u001b[0m\n\u001b[0;32m----> 1\u001b[0;31m \u001b[0mlen\u001b[0m\u001b[0;34m(\u001b[0m\u001b[0mfile\u001b[0m\u001b[0;34m.\u001b[0m\u001b[0mreadlines\u001b[0m\u001b[0;34m(\u001b[0m\u001b[0;34m)\u001b[0m\u001b[0;34m)\u001b[0m\u001b[0;34m\u001b[0m\u001b[0m\n\u001b[0m",
      "\u001b[0;31mUnsupportedOperation\u001b[0m: not readable"
     ]
    }
   ],
   "source": [
    "len(file.readlines())"
   ]
  },
  {
   "cell_type": "code",
   "execution_count": null,
   "metadata": {
    "collapsed": true
   },
   "outputs": [],
   "source": []
  }
 ],
 "metadata": {
  "kernelspec": {
   "display_name": "Python [Root]",
   "language": "python",
   "name": "Python [Root]"
  },
  "language_info": {
   "codemirror_mode": {
    "name": "ipython",
    "version": 3
   },
   "file_extension": ".py",
   "mimetype": "text/x-python",
   "name": "python",
   "nbconvert_exporter": "python",
   "pygments_lexer": "ipython3",
   "version": "3.5.1"
  }
 },
 "nbformat": 4,
 "nbformat_minor": 0
}
